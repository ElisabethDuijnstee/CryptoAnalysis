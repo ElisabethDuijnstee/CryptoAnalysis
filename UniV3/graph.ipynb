{
 "cells": [
  {
   "cell_type": "code",
   "execution_count": 1,
   "metadata": {},
   "outputs": [],
   "source": [
    "import requests\n",
    "import pandas as pd\n",
    "import matplotlib.pyplot as plt\n",
    "\n",
    "# Set the UniswapV3 API endpoint\n",
    "api_endpoint = \"https://api.thegraph.com/subgraphs/name/uniswap/uniswap-v3\"\n",
    "\n",
    "# Define the pool address\n",
    "pool_address = \"0x8ad599c3a0ff1de082011efddc58f1908eb6e6d8\""
   ]
  },
  {
   "cell_type": "code",
   "execution_count": 2,
   "metadata": {},
   "outputs": [],
   "source": [
    "start_date = \"2023-01-01T00:00:00Z\"\n",
    "end_date = \"2023-02-01T00:00:00Z\""
   ]
  },
  {
   "cell_type": "code",
   "execution_count": 3,
   "metadata": {},
   "outputs": [
    {
     "name": "stdout",
     "output_type": "stream",
     "text": [
      "1672531200.0\n"
     ]
    }
   ],
   "source": [
    "import datetime\n",
    "\n",
    "# Create a datetime object for January 1st, 2023 at 00:00:00\n",
    "dt = datetime.datetime(2023, 1, 1, 0, 0, 0)\n",
    "\n",
    "# Convert the datetime object to a Unix timestamp\n",
    "unix_timestamp = dt.timestamp()\n",
    "\n",
    "print(unix_timestamp)"
   ]
  },
  {
   "cell_type": "code",
   "execution_count": 12,
   "metadata": {},
   "outputs": [],
   "source": [
    "query = \"\"\"\n",
    "    query {\n",
    "        pool(id: \"0x8ad599c3a0ff1de082011efddc58f1908eb6e6d8\") {\n",
    "            id\n",
    "            token0 {\n",
    "                symbol\n",
    "            }\n",
    "            token1 {\n",
    "                symbol\n",
    "            }\n",
    "            poolDayData(last: 100, orderBy: date, orderDirection: desc) {\n",
    "                date\n",
    "                liquidity\n",
    "                volumeUSD\n",
    "                feesUSD\n",
    "                tvlUSD\n",
    "            }\n",
    "        }\n",
    "    }\n",
    "\"\"\""
   ]
  },
  {
   "cell_type": "code",
   "execution_count": 13,
   "metadata": {},
   "outputs": [],
   "source": [
    "# Send the query to the API endpoint\n",
    "response = requests.post(api_endpoint, json={'query': query})\n",
    "\n",
    "# Parse the JSON response into a Pandas DataFrame\n",
    "data = response.json()['data']['pool']['poolDayData']\n",
    "df = pd.DataFrame(data)"
   ]
  },
  {
   "cell_type": "code",
   "execution_count": 14,
   "metadata": {},
   "outputs": [
    {
     "data": {
      "text/html": [
       "<div>\n",
       "<style scoped>\n",
       "    .dataframe tbody tr th:only-of-type {\n",
       "        vertical-align: middle;\n",
       "    }\n",
       "\n",
       "    .dataframe tbody tr th {\n",
       "        vertical-align: top;\n",
       "    }\n",
       "\n",
       "    .dataframe thead th {\n",
       "        text-align: right;\n",
       "    }\n",
       "</style>\n",
       "<table border=\"1\" class=\"dataframe\">\n",
       "  <thead>\n",
       "    <tr style=\"text-align: right;\">\n",
       "      <th></th>\n",
       "      <th>date</th>\n",
       "      <th>liquidity</th>\n",
       "      <th>volumeUSD</th>\n",
       "      <th>feesUSD</th>\n",
       "      <th>tvlUSD</th>\n",
       "    </tr>\n",
       "  </thead>\n",
       "  <tbody>\n",
       "    <tr>\n",
       "      <th>0</th>\n",
       "      <td>1682985600</td>\n",
       "      <td>7279866975642489619</td>\n",
       "      <td>6037187.884100402269308306205911938</td>\n",
       "      <td>18111.56365230120680792491861773583</td>\n",
       "      <td>290403504.9616863542862465525025965</td>\n",
       "    </tr>\n",
       "    <tr>\n",
       "      <th>1</th>\n",
       "      <td>1682899200</td>\n",
       "      <td>7220734490109797848</td>\n",
       "      <td>14140425.95513897076379369564524961</td>\n",
       "      <td>42421.27786541691229138108693574879</td>\n",
       "      <td>288007933.2925995004842737960600978</td>\n",
       "    </tr>\n",
       "    <tr>\n",
       "      <th>2</th>\n",
       "      <td>1682812800</td>\n",
       "      <td>7279102075318241452</td>\n",
       "      <td>9371884.813540433213459162283105513</td>\n",
       "      <td>28115.65444062129964037748684931656</td>\n",
       "      <td>291450522.5628793971914611025625889</td>\n",
       "    </tr>\n",
       "    <tr>\n",
       "      <th>3</th>\n",
       "      <td>1682726400</td>\n",
       "      <td>5118329759048463657</td>\n",
       "      <td>3733410.316040927300509250033059306</td>\n",
       "      <td>11200.23094812278190152775009917792</td>\n",
       "      <td>292719105.7722799675003286910875742</td>\n",
       "    </tr>\n",
       "    <tr>\n",
       "      <th>4</th>\n",
       "      <td>1682640000</td>\n",
       "      <td>7365587467589615296</td>\n",
       "      <td>7228088.089207720376338250356776469</td>\n",
       "      <td>21684.26426762316112901475107032941</td>\n",
       "      <td>292650512.7321434084587058926323669</td>\n",
       "    </tr>\n",
       "    <tr>\n",
       "      <th>...</th>\n",
       "      <td>...</td>\n",
       "      <td>...</td>\n",
       "      <td>...</td>\n",
       "      <td>...</td>\n",
       "      <td>...</td>\n",
       "    </tr>\n",
       "    <tr>\n",
       "      <th>95</th>\n",
       "      <td>1674777600</td>\n",
       "      <td>10151729045194677103</td>\n",
       "      <td>26145103.96726044624750623496438947</td>\n",
       "      <td>78435.31190178133874251870489316826</td>\n",
       "      <td>338358930.9581053036842048707886787</td>\n",
       "    </tr>\n",
       "    <tr>\n",
       "      <th>96</th>\n",
       "      <td>1674691200</td>\n",
       "      <td>10176655944895516423</td>\n",
       "      <td>21204062.67350632099263540473294597</td>\n",
       "      <td>63612.18802051896297790621419883798</td>\n",
       "      <td>338015089.2016388605394361206425116</td>\n",
       "    </tr>\n",
       "    <tr>\n",
       "      <th>97</th>\n",
       "      <td>1674604800</td>\n",
       "      <td>10149958524662789200</td>\n",
       "      <td>58430951.10370445942251488278338983</td>\n",
       "      <td>175292.8533111133782675446483501697</td>\n",
       "      <td>340372229.4405743472023949552221865</td>\n",
       "    </tr>\n",
       "    <tr>\n",
       "      <th>98</th>\n",
       "      <td>1674518400</td>\n",
       "      <td>10566066165445661716</td>\n",
       "      <td>26711293.81824786684016589045146515</td>\n",
       "      <td>80133.88145474360052049767135439546</td>\n",
       "      <td>336657374.7427631800564861096078861</td>\n",
       "    </tr>\n",
       "    <tr>\n",
       "      <th>99</th>\n",
       "      <td>1674432000</td>\n",
       "      <td>11060243297096249201</td>\n",
       "      <td>36508519.51233630914532123676078578</td>\n",
       "      <td>109525.5585370089274359637102823575</td>\n",
       "      <td>346243061.0238931777300647799317573</td>\n",
       "    </tr>\n",
       "  </tbody>\n",
       "</table>\n",
       "<p>100 rows × 5 columns</p>\n",
       "</div>"
      ],
      "text/plain": [
       "          date             liquidity                            volumeUSD  \\\n",
       "0   1682985600   7279866975642489619  6037187.884100402269308306205911938   \n",
       "1   1682899200   7220734490109797848  14140425.95513897076379369564524961   \n",
       "2   1682812800   7279102075318241452  9371884.813540433213459162283105513   \n",
       "3   1682726400   5118329759048463657  3733410.316040927300509250033059306   \n",
       "4   1682640000   7365587467589615296  7228088.089207720376338250356776469   \n",
       "..         ...                   ...                                  ...   \n",
       "95  1674777600  10151729045194677103  26145103.96726044624750623496438947   \n",
       "96  1674691200  10176655944895516423  21204062.67350632099263540473294597   \n",
       "97  1674604800  10149958524662789200  58430951.10370445942251488278338983   \n",
       "98  1674518400  10566066165445661716  26711293.81824786684016589045146515   \n",
       "99  1674432000  11060243297096249201  36508519.51233630914532123676078578   \n",
       "\n",
       "                                feesUSD                               tvlUSD  \n",
       "0   18111.56365230120680792491861773583  290403504.9616863542862465525025965  \n",
       "1   42421.27786541691229138108693574879  288007933.2925995004842737960600978  \n",
       "2   28115.65444062129964037748684931656  291450522.5628793971914611025625889  \n",
       "3   11200.23094812278190152775009917792  292719105.7722799675003286910875742  \n",
       "4   21684.26426762316112901475107032941  292650512.7321434084587058926323669  \n",
       "..                                  ...                                  ...  \n",
       "95  78435.31190178133874251870489316826  338358930.9581053036842048707886787  \n",
       "96  63612.18802051896297790621419883798  338015089.2016388605394361206425116  \n",
       "97  175292.8533111133782675446483501697  340372229.4405743472023949552221865  \n",
       "98  80133.88145474360052049767135439546  336657374.7427631800564861096078861  \n",
       "99  109525.5585370089274359637102823575  346243061.0238931777300647799317573  \n",
       "\n",
       "[100 rows x 5 columns]"
      ]
     },
     "execution_count": 14,
     "metadata": {},
     "output_type": "execute_result"
    }
   ],
   "source": [
    "df"
   ]
  },
  {
   "cell_type": "code",
   "execution_count": 18,
   "metadata": {},
   "outputs": [],
   "source": [
    "# Convert the date column to a datetime object and set it as the index\n",
    "df['date'] = pd.to_datetime(df['date'], unit='s')\n",
    "df.set_index('date', inplace=True)"
   ]
  },
  {
   "cell_type": "code",
   "execution_count": 19,
   "metadata": {},
   "outputs": [],
   "source": [
    "df['volumeUSD'] = pd.to_numeric(df[\"volumeUSD\"])\n",
    "df['feesUSD'] = pd.to_numeric(df[\"feesUSD\"])\n",
    "df['tvlUSD'] = pd.to_numeric(df[\"tvlUSD\"])\n",
    "\n",
    "#df['liquidity'] = pd.to_numeric(df['liquidity'])\n"
   ]
  },
  {
   "cell_type": "code",
   "execution_count": 47,
   "metadata": {},
   "outputs": [
    {
     "data": {
      "image/png": "[encoded data removed]",
      "text/plain": [
       "<Figure size 576x720 with 3 Axes>"
      ]
     },
     "metadata": {
      "needs_background": "light"
     },
     "output_type": "display_data"
    }
   ],
   "source": [
    "# Plot the daily volume over time\n",
    "import matplotlib.dates as mdates\n",
    "# Create a figure with two subplots\n",
    "fig, axs = plt.subplots(3, 1, sharex=True, figsize=(8,10))\n",
    "\n",
    "colors = ['#a6bddb','#67a9cf','#1c9099', \"ffb6c1\"]\n",
    "\n",
    "\n",
    "# Plot the daily volume over time\n",
    "axs[0].bar(df.index, df['volumeUSD'], width = 1, color=colors[1], alpha=0.8)\n",
    "axs[0].axhline(y=df['volumeUSD'].mean(), color='purple', linestyle='--', label='Mean')\n",
    "axs[0].set_title('Daily analytics ETH/USDC pool')\n",
    "axs[0].set_ylabel('Volume (USD)')\n",
    "\n",
    "\n",
    "\n",
    "axs[1].bar(df.index, df['feesUSD'], width = 1, color=colors[1], alpha=0.8)\n",
    "axs[1].axhline(y=df['feesUSD'].mean(), color='purple', linestyle='--', label='Mean')\n",
    "axs[1].set_ylabel('Fees (USD)')\n",
    "\n",
    "\n",
    "\n",
    "axs[2].plot(df.index, df['tvlUSD'], color = \"purple\")\n",
    "axs[2].fill_between(df.index, df[\"tvlUSD\"], color = 'purple', alpha = 0.3)\n",
    "axs[2].set_ylabel('TVL (USD)')\n",
    "axs[2].set_xlabel(\"Date\")\n",
    "\n",
    "\n",
    "# Format the x-axis tick labels as month/day\n",
    "date_fmt = '%m/%y'\n",
    "date_formatter = plt.matplotlib.dates.DateFormatter(date_fmt)\n",
    "axs[2].xaxis.set_major_formatter(date_formatter)\n",
    "# Display the plot\n",
    "plt.show()"
   ]
  },
  {
   "cell_type": "code",
   "execution_count": null,
   "metadata": {},
   "outputs": [],
   "source": []
  }
 ],
 "metadata": {
  "kernelspec": {
   "display_name": "Python 3",
   "language": "python",
   "name": "python3"
  },
  "language_info": {
   "codemirror_mode": {
    "name": "ipython",
    "version": 3
   },
   "file_extension": ".py",
   "mimetype": "text/x-python",
   "name": "python",
   "nbconvert_exporter": "python",
   "pygments_lexer": "ipython3",
   "version": "3.8.10"
  },
  "orig_nbformat": 4
 },
 "nbformat": 4,
 "nbformat_minor": 2
}
