{
 "cells": [
  {
   "cell_type": "code",
   "execution_count": 1,
   "metadata": {},
   "outputs": [],
   "source": [
    "from web3 import Web3, HTTPProvider\n",
    "from web3.middleware import geth_poa_middleware"
   ]
  },
  {
   "cell_type": "code",
   "execution_count": 2,
   "metadata": {},
   "outputs": [],
   "source": [
    "provider = HTTPProvider('https://mainnet.infura.io/v3/5aa99675577d48019a92e04b32b8d0bb')\n",
    "web3 = Web3(provider)\n",
    "web3.middleware_onion.inject(geth_poa_middleware, layer=0)"
   ]
  },
  {
   "cell_type": "code",
   "execution_count": null,
   "metadata": {},
   "outputs": [],
   "source": [
    "def submit_exploit_transaction(tx):\n",
    "    # Construct and sign the exploit transaction\n",
    "    signed_tx = web3.eth.account.sign_transaction(tx, YOUR_PRIVATE_KEY)\n",
    "\n",
    "    # Send the exploit transaction to the network\n",
    "    tx_hash = web3.eth.send_raw_transaction(signed_tx.rawTransaction)\n",
    "    print('Exploit transaction submitted:', tx_hash.hex())"
   ]
  },
  {
   "cell_type": "code",
   "execution_count": null,
   "metadata": {},
   "outputs": [],
   "source": [
    "def handle_transaction(tx):\n",
    "    # Extract relevant information from the transaction\n",
    "    from_address = tx['from']\n",
    "    to_address = tx['to']\n",
    "    gas_price = tx['gasPrice']\n",
    "\n",
    "    # Check if the transaction meets your profitability criteria\n",
    "    if to_address == YOUR_DESIRED_ADDRESS and gas_price > YOUR_MINIMUM_GAS_PRICE:\n",
    "        # Perform the desired action, such as submitting an exploit transaction\n",
    "        submit_exploit_transaction(tx)"
   ]
  },
  {
   "cell_type": "code",
   "execution_count": 7,
   "metadata": {},
   "outputs": [],
   "source": [
    "def handle_block(block):\n",
    "    for tx_hash in block['transactions']:\n",
    "        tx = web3.eth.getTransaction(tx_hash)\n",
    "        print(tx)\n",
    "    print(tx)\n",
    "#web3.eth.subscribe('newBlockHeaders', handle_block)\n"
   ]
  },
  {
   "cell_type": "code",
   "execution_count": null,
   "metadata": {},
   "outputs": [],
   "source": []
  }
 ],
 "metadata": {
  "kernelspec": {
   "display_name": "Python 3",
   "language": "python",
   "name": "python3"
  },
  "language_info": {
   "codemirror_mode": {
    "name": "ipython",
    "version": 3
   },
   "file_extension": ".py",
   "mimetype": "text/x-python",
   "name": "python",
   "nbconvert_exporter": "python",
   "pygments_lexer": "ipython3",
   "version": "3.8.10"
  },
  "orig_nbformat": 4
 },
 "nbformat": 4,
 "nbformat_minor": 2
}
